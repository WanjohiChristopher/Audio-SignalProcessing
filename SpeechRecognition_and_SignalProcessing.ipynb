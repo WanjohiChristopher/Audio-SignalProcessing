{
  "nbformat": 4,
  "nbformat_minor": 0,
  "metadata": {
    "colab": {
      "name": "SpeechRecognition and SignalProcessing.ipynb",
      "provenance": [],
      "authorship_tag": "ABX9TyNSFl7Dkm+CtyrEKwmTYLwp",
      "include_colab_link": true
    },
    "kernelspec": {
      "name": "python3",
      "display_name": "Python 3"
    },
    "language_info": {
      "name": "python"
    }
  },
  "cells": [
    {
      "cell_type": "markdown",
      "metadata": {
        "id": "view-in-github",
        "colab_type": "text"
      },
      "source": [
        "<a href=\"https://colab.research.google.com/github/WanjohiChristopher/Audio-SignalProcessing/blob/main/SpeechRecognition_and_SignalProcessing.ipynb\" target=\"_parent\"><img src=\"https://colab.research.google.com/assets/colab-badge.svg\" alt=\"Open In Colab\"/></a>"
      ]
    },
    {
      "cell_type": "code",
      "metadata": {
        "colab": {
          "base_uri": "https://localhost:8080/"
        },
        "id": "X4GwzGo5OYPi",
        "outputId": "3f3a64b1-35f4-40de-b777-f6252d2586f2"
      },
      "source": [
        "!pip install SpeechRecognition"
      ],
      "execution_count": 1,
      "outputs": [
        {
          "output_type": "stream",
          "name": "stdout",
          "text": [
            "Collecting SpeechRecognition\n",
            "  Downloading SpeechRecognition-3.8.1-py2.py3-none-any.whl (32.8 MB)\n",
            "\u001b[K     |████████████████████████████████| 32.8 MB 38 kB/s \n",
            "\u001b[?25hInstalling collected packages: SpeechRecognition\n",
            "Successfully installed SpeechRecognition-3.8.1\n"
          ]
        }
      ]
    },
    {
      "cell_type": "code",
      "metadata": {
        "colab": {
          "base_uri": "https://localhost:8080/"
        },
        "id": "EFqqsgu8OFTo",
        "outputId": "9335a330-cbb4-4a0c-839b-03b8c5e43350"
      },
      "source": [
        "import scipy\n",
        "import speech_recognition\n",
        "from google.colab import drive\n",
        "drive.mount('/content/drive')"
      ],
      "execution_count": 2,
      "outputs": [
        {
          "output_type": "stream",
          "name": "stdout",
          "text": [
            "Mounted at /content/drive\n"
          ]
        }
      ]
    },
    {
      "cell_type": "code",
      "metadata": {
        "id": "MGqrVc-yOoJQ"
      },
      "source": [
        "from scipy.io import wavfile\n",
        "freq_sm,sig_audi=wavfile.read('/content/drive/MyDrive/SpeechRecognitionFiles/machine-learning_speech-recognition_16-122828-0002.wav')"
      ],
      "execution_count": 14,
      "outputs": []
    },
    {
      "cell_type": "code",
      "metadata": {
        "colab": {
          "base_uri": "https://localhost:8080/"
        },
        "id": "JapA5CnKYhhs",
        "outputId": "74750c68-f9e1-4c14-a741-9bfdffafc61e"
      },
      "source": [
        "print('\\n Shape of the signal is',sig_audi.shape)\n",
        "print('\\n Signal  datatype is',sig_audi.dtype)\n",
        "print('\\nSignal duration',round(sig_audi.shape[0]/float(freq_sm),2),'seconds')"
      ],
      "execution_count": 15,
      "outputs": [
        {
          "output_type": "stream",
          "name": "stdout",
          "text": [
            "\n",
            " Shape of the signal is (46400,)\n",
            "\n",
            " Signal  datatype is int16\n",
            "\n",
            "Signal duration 2.9 seconds\n"
          ]
        }
      ]
    },
    {
      "cell_type": "code",
      "metadata": {
        "colab": {
          "base_uri": "https://localhost:8080/",
          "height": 293
        },
        "id": "JgRgKG8-Yz3j",
        "outputId": "86c0498e-5cb0-4d5d-b32c-dd7fd195cda5"
      },
      "source": [
        "import numpy as np\n",
        "import matplotlib.pyplot as plt\n",
        "\n",
        "signal=sig_audi/np.power(3,15)\n",
        "pow_audio=signal[:100]\n",
        "time_axis=1000* np.arange(0,len(pow_audio),1)/float(freq_sm)\n",
        "plt.plot(time_axis,pow_audio,color='red')"
      ],
      "execution_count": 18,
      "outputs": [
        {
          "output_type": "execute_result",
          "data": {
            "text/plain": [
              "[<matplotlib.lines.Line2D at 0x7f2f4381cf10>]"
            ]
          },
          "metadata": {},
          "execution_count": 18
        },
        {
          "output_type": "display_data",
          "data": {
            "image/png": "[encoded data removed]",
            "text/plain": [
              "<Figure size 432x288 with 1 Axes>"
            ]
          },
          "metadata": {
            "needs_background": "light"
          }
        }
      ]
    },
    {
      "cell_type": "code",
      "metadata": {
        "colab": {
          "base_uri": "https://localhost:8080/"
        },
        "id": "e3nIkxVZatZB",
        "outputId": "659b5a2d-994d-418f-86b3-c5d2624ff476"
      },
      "source": [
        "#creating a fourier transform for our signal\n",
        "#defining inputs\n",
        "sig_length=len(sig_audi)\n",
        "half_length=np.ceil((sig_length+1)/2.0).astype(np.int)\n",
        "print(sig_length)\n",
        "print(half_length)"
      ],
      "execution_count": 22,
      "outputs": [
        {
          "output_type": "stream",
          "name": "stdout",
          "text": [
            "46400\n",
            "23201\n"
          ]
        }
      ]
    },
    {
      "cell_type": "code",
      "metadata": {
        "id": "cXFNmIhlawWE"
      },
      "source": [
        "#fourier transform to form frequency domain of our bsignal\n",
        "signal_freq=np.fft.fft(sig_audi)\n"
      ],
      "execution_count": 23,
      "outputs": []
    },
    {
      "cell_type": "code",
      "metadata": {
        "colab": {
          "base_uri": "https://localhost:8080/"
        },
        "id": "-KO-h2P-rGi5",
        "outputId": "4031d717-abd8-40ac-d03c-7a2a4b5fa1bc"
      },
      "source": [
        "#normalizing and squaring the frequency domain\n",
        "signal_freq=abs(signal_freq[0:half_length])/sig_length\n",
        "signal_freq **=2\n",
        "transform_length=len(signal_freq)\n",
        "print(transform_length)"
      ],
      "execution_count": 26,
      "outputs": [
        {
          "output_type": "stream",
          "name": "stdout",
          "text": [
            "23201\n"
          ]
        }
      ]
    },
    {
      "cell_type": "code",
      "metadata": {
        "id": "uM2ChEplsk6g"
      },
      "source": [
        "#adjusting fourier to even and odd cases\n",
        "if sig_length % 2:\n",
        "  signal_freq[1:transform_length] *=2\n",
        "else:\n",
        "    signal_freq[1:transform_length-1] *=2\n",
        "\n"
      ],
      "execution_count": 28,
      "outputs": []
    },
    {
      "cell_type": "code",
      "metadata": {
        "id": "kVhn3v6Psq3J"
      },
      "source": [
        "# get signal strength in decibels (dB)\n",
        "Exp_signal=10*np.log10(signal_freq)\n",
        "x_axis=np.arange(0,half_length,1) * (freq_sm/sig_length)/1000.0"
      ],
      "execution_count": 33,
      "outputs": []
    },
    {
      "cell_type": "code",
      "metadata": {
        "colab": {
          "base_uri": "https://localhost:8080/",
          "height": 312
        },
        "id": "ztzL-W3nuW1s",
        "outputId": "fa59626a-575f-4b0c-a8c7-b9bafd9e06e2"
      },
      "source": [
        "#plotting signal\n",
        "plt.title('Fourier transform in the audio file')\n",
        "plt.xlabel('Signal Frequency')\n",
        "plt.ylabel('Signal Strength')\n",
        "plt.plot(x_axis,Exp_signal,color='green',linewidth=2  )"
      ],
      "execution_count": 35,
      "outputs": [
        {
          "output_type": "execute_result",
          "data": {
            "text/plain": [
              "[<matplotlib.lines.Line2D at 0x7f2f4331ec50>]"
            ]
          },
          "metadata": {},
          "execution_count": 35
        },
        {
          "output_type": "display_data",
          "data": {
            "image/png": "[encoded data removed]",
            "text/plain": [
              "<Figure size 432x288 with 1 Axes>"
            ]
          },
          "metadata": {
            "needs_background": "light"
          }
        }
      ]
    },
    {
      "cell_type": "code",
      "metadata": {
        "colab": {
          "base_uri": "https://localhost:8080/"
        },
        "id": "ZjnYTE4cx8eY",
        "outputId": "545294a5-f944-4b03-d4b6-130b32d9d122"
      },
      "source": [
        "!pip install python_speech_features"
      ],
      "execution_count": 36,
      "outputs": [
        {
          "output_type": "stream",
          "name": "stdout",
          "text": [
            "Collecting python_speech_features\n",
            "  Downloading python_speech_features-0.6.tar.gz (5.6 kB)\n",
            "Building wheels for collected packages: python-speech-features\n",
            "  Building wheel for python-speech-features (setup.py) ... \u001b[?25l\u001b[?25hdone\n",
            "  Created wheel for python-speech-features: filename=python_speech_features-0.6-py3-none-any.whl size=5888 sha256=63d686644a7128a96730ca3ebd46b36735bfedb476ef36e3e140c432d456ee0e\n",
            "  Stored in directory: /root/.cache/pip/wheels/b0/0e/94/28cd6afa3cd5998a63eef99fe31777acd7d758f59cf24839eb\n",
            "Successfully built python-speech-features\n",
            "Installing collected packages: python-speech-features\n",
            "Successfully installed python-speech-features-0.6\n"
          ]
        }
      ]
    },
    {
      "cell_type": "code",
      "metadata": {
        "id": "P72BjncCvLLL"
      },
      "source": [
        "#extracting features from the speech \n",
        "#converting the frequency domain obtained to a feature vector\n",
        "#MFCC'S is Mel frequency cepstral coefficients are used to extract features from audio signal\n",
        "#mel scale is used\n",
        "from python_speech_features import mfcc,logfbank\n",
        "# we take the first 15000 lines in our signal analysis\n",
        "sig_audio=sig_audi[:15000]\n",
        "#mfcc use to extract features fro m signal\n",
        "mfcc_features=mfcc(sig_audi,freq_sm)\n",
        "\n",
        "\n"
      ],
      "execution_count": 39,
      "outputs": []
    },
    {
      "cell_type": "code",
      "metadata": {
        "colab": {
          "base_uri": "https://localhost:8080/"
        },
        "id": "i-N4243hy-GW",
        "outputId": "d1145b15-e51f-443c-a7ef-8d7d2cf07e1f"
      },
      "source": [
        "print(mfcc_features)"
      ],
      "execution_count": 40,
      "outputs": [
        {
          "output_type": "stream",
          "name": "stdout",
          "text": [
            "[[  9.591213   -16.81803827  -1.29619254 ...   3.94322381   0.60139626\n",
            "   -3.17088426]\n",
            " [  9.50868931 -23.80719323  -4.62957719 ...   1.56270037  -5.30248606\n",
            "  -10.17806985]\n",
            " [  9.44293014 -21.94152534  -2.96797813 ...   6.0896495    1.52298078\n",
            "  -11.9523773 ]\n",
            " ...\n",
            " [  9.66508044 -16.99838082  -2.09532588 ...   3.98774245   3.35367723\n",
            "  -15.33042719]\n",
            " [  9.56543613 -16.77974846  -4.72691162 ...   5.93305736   9.27714807\n",
            "  -12.6220271 ]\n",
            " [  9.286129   -16.01666478  -2.79103648 ...   5.2609661   11.15971512\n",
            "  -10.45471141]]\n"
          ]
        }
      ]
    },
    {
      "cell_type": "code",
      "metadata": {
        "colab": {
          "base_uri": "https://localhost:8080/"
        },
        "id": "-EYzttPWznoY",
        "outputId": "99d99634-6005-4ab4-b12a-b94714986c25"
      },
      "source": [
        "print('The mfcc parameters are:',mfcc_features.shape[0])"
      ],
      "execution_count": 43,
      "outputs": [
        {
          "output_type": "stream",
          "name": "stdout",
          "text": [
            "The mfcc parameters are: 289\n"
          ]
        }
      ]
    },
    {
      "cell_type": "code",
      "metadata": {
        "colab": {
          "base_uri": "https://localhost:8080/"
        },
        "id": "j41F6Kw6z0Sr",
        "outputId": "256ea4bd-21f2-4cd0-b75b-6853838bbe1f"
      },
      "source": [
        "print('The individual feature length is:',mfcc_features.shape[1])"
      ],
      "execution_count": 42,
      "outputs": [
        {
          "output_type": "stream",
          "name": "stdout",
          "text": [
            "The individual feature length is: 13\n"
          ]
        }
      ]
    },
    {
      "cell_type": "code",
      "metadata": {
        "id": "YauSEZ1T0Nsm"
      },
      "source": [
        "#Transposing our features\n",
        "mfcc_features=mfcc_features.T"
      ],
      "execution_count": 46,
      "outputs": []
    },
    {
      "cell_type": "code",
      "metadata": {
        "colab": {
          "base_uri": "https://localhost:8080/",
          "height": 80
        },
        "id": "OjyCpqXu0dS6",
        "outputId": "a0bb1d80-3380-4d75-9e7e-2f8e38cb6949"
      },
      "source": [
        "#Plotting our features\n",
        "plt.figure(figsize=(20,8))\n",
        "#plt.title('Representation of Features extracted(MFCC FEATURES)')\n",
        "plt.matshow(mfcc_features,fignum=1)"
      ],
      "execution_count": 61,
      "outputs": [
        {
          "output_type": "execute_result",
          "data": {
            "text/plain": [
              "<matplotlib.image.AxesImage at 0x7f2f38a43290>"
            ]
          },
          "metadata": {},
          "execution_count": 61
        },
        {
          "output_type": "display_data",
          "data": {
            "image/png": "[encoded data removed]",
            "text/plain": [
              "<Figure size 1440x576 with 1 Axes>"
            ]
          },
          "metadata": {
            "needs_background": "light"
          }
        }
      ]
    },
    {
      "cell_type": "markdown",
      "metadata": {
        "id": "mnvd4bF53Fbv"
      },
      "source": [
        "           The first horizontal lines below every segment are the fundmental frequency and at their  strongest.Above  the yelow are the harmonics that share the  same frequency distance between them"
      ]
    },
    {
      "cell_type": "code",
      "metadata": {
        "id": "xH-o0R82084p"
      },
      "source": [
        "#generating filterbanks features\n",
        "fb_features=logfbank(sig_audi,freq_sm)"
      ],
      "execution_count": 62,
      "outputs": []
    },
    {
      "cell_type": "code",
      "metadata": {
        "id": "eFCT_vfF30qh"
      },
      "source": [
        "#transposing oure filterbank features\n",
        "fb_features=fb_features.T"
      ],
      "execution_count": 63,
      "outputs": []
    },
    {
      "cell_type": "code",
      "metadata": {
        "colab": {
          "base_uri": "https://localhost:8080/",
          "height": 113
        },
        "id": "IBN5ieCS4DjA",
        "outputId": "7034752a-1fb8-4d57-d27d-55d810b9e57d"
      },
      "source": [
        "plt.matshow(fb_features,fignum=4)"
      ],
      "execution_count": 65,
      "outputs": [
        {
          "output_type": "execute_result",
          "data": {
            "text/plain": [
              "<matplotlib.image.AxesImage at 0x7f2f3892b750>"
            ]
          },
          "metadata": {},
          "execution_count": 65
        },
        {
          "output_type": "display_data",
          "data": {
            "image/png": "[encoded data removed]",
            "text/plain": [
              "<Figure size 1152x144 with 1 Axes>"
            ]
          },
          "metadata": {
            "needs_background": "light"
          }
        }
      ]
    },
    {
      "cell_type": "markdown",
      "metadata": {
        "id": "r3Qm_W1T4oY2"
      },
      "source": [
        "         The MFCC, along with application of Filter Banks is a good algorithm to separate the high and low frequency signals. This expedites the analysis process as we can trim sound signals into two or more separate segments and individually analyze them based on their frequencies."
      ]
    },
    {
      "cell_type": "code",
      "metadata": {
        "id": "TPMSmmlo4LVv"
      },
      "source": [
        ""
      ],
      "execution_count": null,
      "outputs": []
    }
  ]
}